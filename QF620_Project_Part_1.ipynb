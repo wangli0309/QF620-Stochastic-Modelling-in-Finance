{
 "cells": [
  {
   "cell_type": "code",
   "execution_count": 1,
   "id": "c79c0581",
   "metadata": {},
   "outputs": [
    {
     "data": {
      "text/plain": [
       "'\\nConsider the following European options:\\n\\x0f Vanilla call/put\\n\\x0f Digital cash-or-nothing call/put\\n\\x0f Digital asset-or-nothing call/put\\nDerive and implement the following models to value these options in Python:\\n1 Black-Scholes model\\n2 Bachelier model\\n3 Black76 model\\n4 Displaced-diffusion model\\n'"
      ]
     },
     "execution_count": 1,
     "metadata": {},
     "output_type": "execute_result"
    }
   ],
   "source": [
    "#Q1. \n",
    "\"\"\"\n",
    "Consider the following European options:\n",
    "\u000f Vanilla call/put\n",
    "\u000f Digital cash-or-nothing call/put\n",
    "\u000f Digital asset-or-nothing call/put\n",
    "Derive and implement the following models to value these options in Python:\n",
    "1 Black-Scholes model\n",
    "2 Bachelier model\n",
    "3 Black76 model\n",
    "4 Displaced-diffusion model\n",
    "\"\"\""
   ]
  },
  {
   "cell_type": "markdown",
   "id": "b3d75d1b",
   "metadata": {},
   "source": [
    "The Black-Scholes formula for a call option is given by\n",
    "\n",
    "\\begin{equation}\n",
    "\\begin{split}\n",
    "C(S,K,r,\\sigma,T) &= S_0 \\Phi(d_1) - K e^{-rT} \\Phi(d_2)\\\\\n",
    "            d_1 &= \\frac{\\log \\frac{S_0}{K} +\n",
    "            \\left(r+\\frac{\\sigma^2}{2}\\right)T}{\\sigma\\sqrt{T}}, \\hspace{2cm} d_2 = d_1 - \\sigma\\sqrt{T}\\\\\n",
    "\\end{split}            \n",
    "\\end{equation}\n",
    "\n",
    "Similarly, the Black-Scholes formula for a put option is given by\n",
    "\n",
    "\\begin{equation}\n",
    "P(S,K,r,\\sigma,T) = K e^{-rT} \\Phi(-d_2) - S_0 \\Phi(-d_1)\n",
    "\\end{equation}"
   ]
  },
  {
   "cell_type": "code",
   "execution_count": 2,
   "id": "7aa764e3",
   "metadata": {},
   "outputs": [],
   "source": [
    "import numpy as np\n",
    "from scipy.stats import norm\n",
    "from math import log, sqrt, exp"
   ]
  },
  {
   "cell_type": "code",
   "execution_count": 3,
   "id": "81f58ccb",
   "metadata": {},
   "outputs": [],
   "source": [
    "#Black Scholes Vanilla Call/Put\n",
    "def BlackScholesVanillaCall(S, K, r, sigma, T):\n",
    "    if T == 0 : #prevent divide by 0\n",
    "        T = 0.00001\n",
    "    d1 = (np.log(S/K)+(r+sigma**2/2)*T) / (sigma*np.sqrt(T))\n",
    "    d2 = d1 - sigma*np.sqrt(T)\n",
    "    return S*norm.cdf(d1) - K*np.exp(-r*T)*norm.cdf(d2)"
   ]
  },
  {
   "cell_type": "code",
   "execution_count": 4,
   "id": "12aa17a4",
   "metadata": {},
   "outputs": [],
   "source": [
    "def BlackScholesVanillaPut(S, K, r, sigma, T):\n",
    "    if T == 0 : #prevent divide by 0\n",
    "        T = 0.00001\n",
    "    d1 = (np.log(S/K)+(r+sigma**2/2)*T) / (sigma*np.sqrt(T))\n",
    "    d2 = d1 - sigma*np.sqrt(T)\n",
    "    return K*np.exp(-r*T)*norm.cdf(-d2) - S*norm.cdf(-d1)"
   ]
  },
  {
   "cell_type": "markdown",
   "id": "573d0054",
   "metadata": {},
   "source": [
    "By put-call parity, which states that\n",
    "\n",
    "\\begin{equation}\n",
    "C(S, K, r, \\sigma, T) - P(S, K, r, \\sigma, T) = S - Ke^{-rT},\n",
    "\\end{equation}\n",
    "\n",
    "we know that call and put option should be worth the same amount when $K=Se^{rT}$."
   ]
  },
  {
   "cell_type": "code",
   "execution_count": 5,
   "id": "c2767481",
   "metadata": {},
   "outputs": [],
   "source": [
    "S = 100.0\n",
    "r = 0.05\n",
    "T = 2.0\n",
    "K = S * np.exp(r*T)\n",
    "sigma = 0.4"
   ]
  },
  {
   "cell_type": "code",
   "execution_count": 6,
   "id": "254e0494",
   "metadata": {},
   "outputs": [
    {
     "name": "stdout",
     "output_type": "stream",
     "text": [
      "Call price for BlackScholesVanillaCall when K = Se^rT: 22.2703\n",
      "Put price for BlackScholesVanillaPut when K = Se^rT: 22.2703\n"
     ]
    }
   ],
   "source": [
    "print('Call price for BlackScholesVanillaCall when K = Se^rT: %.4f' % BlackScholesVanillaCall(S, K, r, sigma, T))\n",
    "print('Put price for BlackScholesVanillaPut when K = Se^rT: %.4f' % BlackScholesVanillaPut(S, K, r, sigma, T))"
   ]
  },
  {
   "cell_type": "code",
   "execution_count": 7,
   "id": "e2f1da34",
   "metadata": {},
   "outputs": [],
   "source": [
    "#revert back K to 110.0 for all other option pricing formulas:\n",
    "S = 100.0\n",
    "r = 0.05\n",
    "T = 2.0\n",
    "K = 110\n",
    "sigma = 0.4"
   ]
  },
  {
   "cell_type": "code",
   "execution_count": 8,
   "id": "bfee6338",
   "metadata": {},
   "outputs": [
    {
     "name": "stdout",
     "output_type": "stream",
     "text": [
      "Call price for BlackScholesVanillaCall: 22.4528\n",
      "Put price for BlackScholesVanillaPut: 21.9850\n"
     ]
    }
   ],
   "source": [
    "print('Call price for BlackScholesVanillaCall: %.4f' % BlackScholesVanillaCall(S, K, r, sigma, T))\n",
    "print('Put price for BlackScholesVanillaPut: %.4f' % BlackScholesVanillaPut(S, K, r, sigma, T))"
   ]
  },
  {
   "cell_type": "code",
   "execution_count": 9,
   "id": "fa56767d",
   "metadata": {},
   "outputs": [],
   "source": [
    "#call = S-K\n",
    "#put = K-S\n",
    "#reference: https://quantpie.co.uk/bsm_bin_c_formula/bs_bin_c_summary.php\n",
    "#Black Scholes Digital Cash or Nothing Call/Put\n",
    "def BlackScholesDigitalCashOrNothingCall(S, K, r, sigma, T):\n",
    "    if T==0 and S <= K:\n",
    "        return 0\n",
    "    if T == 0 : #prevent divide by 0\n",
    "        T = 0.00001\n",
    "    d1 = (np.log(S/K)+(r-sigma**2/2)*T) / (sigma*np.sqrt(T)) #d2\n",
    "    #e = math.e\n",
    "    return np.exp(-r*T)*norm.cdf(d1)"
   ]
  },
  {
   "cell_type": "code",
   "execution_count": 10,
   "id": "c0ab6f89",
   "metadata": {},
   "outputs": [],
   "source": [
    "def BlackScholesDigitalCashOrNothingPut(S, K, r, sigma, T):\n",
    "    if T == 0 and S >= K:\n",
    "        return 0\n",
    "    if T == 0 : #prevent divide by 0\n",
    "        T = 0.00001\n",
    "    d1 = (np.log(S/K)+(r-sigma**2/2)*T) / (sigma*np.sqrt(T)) #d2\n",
    "    return np.exp(-r*T)*norm.cdf(-d1)"
   ]
  },
  {
   "cell_type": "code",
   "execution_count": 11,
   "id": "09d27211",
   "metadata": {},
   "outputs": [
    {
     "name": "stdout",
     "output_type": "stream",
     "text": [
      "Call price for BlackScholesDigitalCashOrNothingCall: 0.3545\n",
      "Put price for BlackScholesDigitalCashOrNothingPut: 0.5503\n"
     ]
    }
   ],
   "source": [
    "print('Call price for BlackScholesDigitalCashOrNothingCall: %.4f' % BlackScholesDigitalCashOrNothingCall(S, K, r, sigma, T))\n",
    "print('Put price for BlackScholesDigitalCashOrNothingPut: %.4f' % BlackScholesDigitalCashOrNothingPut(S, K, r, sigma, T))"
   ]
  },
  {
   "cell_type": "code",
   "execution_count": 12,
   "id": "2700757a",
   "metadata": {},
   "outputs": [],
   "source": [
    "#reference: https://quantpie.co.uk/bsm_bin_c_formula/bs_bin_c_summary.php\n",
    "#reference: https://quantpie.co.uk/oup/oup_bsm_a_price_greeks_analysis.php\n",
    "#Black Scholes Digital Asset or Nothing Call/Put\n",
    "def BlackScholesDigitalAssetOrNothingCall(S, K, r, sigma, T):\n",
    "    if T==0 and S <= K:\n",
    "        return 0\n",
    "    if T == 0 : #prevent divide by 0\n",
    "        T = 0.00001\n",
    "    d1 = (np.log(S/K)+(r+sigma**2/2)*T) / (sigma*np.sqrt(T))\n",
    "    return S*norm.cdf(d1)"
   ]
  },
  {
   "cell_type": "code",
   "execution_count": 13,
   "id": "aafc77df",
   "metadata": {},
   "outputs": [],
   "source": [
    "def BlackScholesDigitalAssetOrNothingPut(S, K, r, sigma, T):\n",
    "    if T == 0 and S >= K:\n",
    "        return 0\n",
    "    if T == 0 : #prevent divide by 0\n",
    "        T = 0.00001\n",
    "    d1 = (np.log(S/K)+(r+sigma**2/2)*T) / (sigma*np.sqrt(T))\n",
    "    return S*norm.cdf(-d1)"
   ]
  },
  {
   "cell_type": "code",
   "execution_count": 14,
   "id": "6b8bafb5",
   "metadata": {},
   "outputs": [
    {
     "name": "stdout",
     "output_type": "stream",
     "text": [
      "Call price for BlackScholesDigitalAssetOrNothingCall: 61.4525\n",
      "Put price for BlackScholesDigitalAssetOrNothingPut: 38.5475\n"
     ]
    }
   ],
   "source": [
    "print('Call price for BlackScholesDigitalAssetOrNothingCall: %.4f' % BlackScholesDigitalAssetOrNothingCall(S, K, r, sigma, T))\n",
    "print('Put price for BlackScholesDigitalAssetOrNothingPut: %.4f' % BlackScholesDigitalAssetOrNothingPut(S, K, r, sigma, T))"
   ]
  },
  {
   "cell_type": "code",
   "execution_count": 15,
   "id": "ee5f64fc",
   "metadata": {},
   "outputs": [],
   "source": [
    "#Bachelier Vanilla Call/Put\n",
    "def BachelierVanillaCall(S, K, r, sigma, T):\n",
    "    if T == 0 : #prevent divide by 0\n",
    "        T = 0.00001\n",
    "    if K == S:\n",
    "        return (np.exp(-r*T)) * S * sigma * np.sqrt(T/(2*np.pi)) #0.4\n",
    "    d1 = (S-K)/(S*sigma*np.sqrt(T))\n",
    "    d2 = ((S-K)*norm.cdf(d1)) + (S*sigma*np.sqrt(T)*norm.pdf(d1))\n",
    "    return np.exp(-r*T) * d2"
   ]
  },
  {
   "cell_type": "code",
   "execution_count": 16,
   "id": "66e93454",
   "metadata": {},
   "outputs": [],
   "source": [
    "def BachelierVanillaPut(S, K, r, sigma, T):\n",
    "    if T == 0 : #prevent divide by 0\n",
    "        T = 0.00001\n",
    "    if K == S:\n",
    "        return (np.exp(-r*T)) * S * sigma * np.sqrt(T/(2*np.pi)) #0.4\n",
    "    d1 = ((S-K)/(S*sigma*np.sqrt(T)))\n",
    "    d2 = ((K-S)*norm.cdf(-d1)) + (S*sigma*np.sqrt(T)*norm.pdf(d1))\n",
    "    return np.exp(-r*T) * d2"
   ]
  },
  {
   "cell_type": "code",
   "execution_count": 17,
   "id": "563091f8",
   "metadata": {},
   "outputs": [
    {
     "name": "stdout",
     "output_type": "stream",
     "text": [
      "Call price for BachelierVanillaCall: 16.2140\n",
      "Put price for BachelierVanillaPut: 25.2624\n"
     ]
    }
   ],
   "source": [
    "print('Call price for BachelierVanillaCall: %.4f' % BachelierVanillaCall(S, K, r, sigma, T))\n",
    "print('Put price for BachelierVanillaPut: %.4f' % BachelierVanillaPut(S, K, r, sigma, T))"
   ]
  },
  {
   "cell_type": "code",
   "execution_count": 18,
   "id": "e1560d17",
   "metadata": {},
   "outputs": [],
   "source": [
    "#Bachelier Digital Cash or Nothing Call/Put\n",
    "def BachelierDigitalCashOrNothingCall(S, K, r, sigma, T):\n",
    "    if T==0 and S <= K:\n",
    "        return 0\n",
    "    if T == 0 : #prevent divide by 0\n",
    "        T = 0.00001\n",
    "    d1 = (S-K)/(S*sigma*np.sqrt(T))\n",
    "    return np.exp(-r*T) * norm.cdf(d1)"
   ]
  },
  {
   "cell_type": "code",
   "execution_count": 19,
   "id": "2f1cb092",
   "metadata": {},
   "outputs": [],
   "source": [
    "def BachelierDigitalCashOrNothingPut(S, K, r, sigma, T):\n",
    "    if T == 0 and S >= K:\n",
    "        return 0\n",
    "    if T == 0 : #prevent divide by 0\n",
    "        T = 0.00001\n",
    "    d1 = (S-K)/(S*sigma*np.sqrt(T))\n",
    "    return np.exp(-r*T)*norm.cdf(-d1)"
   ]
  },
  {
   "cell_type": "code",
   "execution_count": 20,
   "id": "9ff9b5aa",
   "metadata": {
    "scrolled": true
   },
   "outputs": [
    {
     "name": "stdout",
     "output_type": "stream",
     "text": [
      "Call price for BachelierDigitalCashOrNothingCall: 0.3889\n",
      "Put price for BachelierDigitalCashOrNothingPut: 0.5159\n"
     ]
    }
   ],
   "source": [
    "print('Call price for BachelierDigitalCashOrNothingCall: %.4f' % BachelierDigitalCashOrNothingCall(S, K, r, sigma, T))\n",
    "print('Put price for BachelierDigitalCashOrNothingPut: %.4f' % BachelierDigitalCashOrNothingPut(S, K, r, sigma, T))"
   ]
  },
  {
   "cell_type": "code",
   "execution_count": 21,
   "id": "751028ef",
   "metadata": {},
   "outputs": [],
   "source": [
    "#Bachelier Digital Asset or Nothing Call/Put\n",
    "def BachelierDigitalAssetOrNothingCall(S, K, r, sigma, T):\n",
    "    if T==0 and S <= K:\n",
    "        return 0\n",
    "    if T == 0 : #prevent divide by 0\n",
    "        T = 0.00001\n",
    "    d0 = S-K #f0-K\n",
    "    d1 = d0/(S*sigma*np.sqrt(T))\n",
    "    d2 = (S*norm.cdf(d1)) + (S*sigma*np.sqrt(T)*norm.pdf(d1))\n",
    "    return np.exp(-r*T) * d2"
   ]
  },
  {
   "cell_type": "code",
   "execution_count": 22,
   "id": "35891930",
   "metadata": {},
   "outputs": [],
   "source": [
    "def BachelierDigitalAssetOrNothingPut(S, K, r, sigma, T):\n",
    "    if T==0 and S <= K:\n",
    "        return 0\n",
    "    if T == 0 : #prevent divide by 0\n",
    "        T = 0.00001\n",
    "    d0 = S-K #f0-K\n",
    "    d1 = d0/(S*sigma*np.sqrt(T))\n",
    "    d2 = (S*norm.cdf(-d1)) + (S*sigma*np.sqrt(T)*norm.pdf(-d1))\n",
    "    return np.exp(-r*T) * d2"
   ]
  },
  {
   "cell_type": "code",
   "execution_count": 23,
   "id": "5a548031",
   "metadata": {},
   "outputs": [
    {
     "name": "stdout",
     "output_type": "stream",
     "text": [
      "Call price for BachelierDigitalAssetOrNothingCall: 58.9971\n",
      "Put price for BachelierDigitalAssetOrNothingPut: 71.6934\n"
     ]
    }
   ],
   "source": [
    "print('Call price for BachelierDigitalAssetOrNothingCall: %.4f' % BachelierDigitalAssetOrNothingCall(S, K, r, sigma, T))\n",
    "print('Put price for BachelierDigitalAssetOrNothingPut: %.4f' % BachelierDigitalAssetOrNothingPut(S, K, r, sigma, T))"
   ]
  },
  {
   "cell_type": "code",
   "execution_count": 24,
   "id": "97fd5967",
   "metadata": {},
   "outputs": [],
   "source": [
    "#Black76 Vanilla Call/Put\n",
    "def Black76VanillaCall(S, K, r, sigma, T): #BlackCall(F, K, sigma, T) #We use r here for forward price.\n",
    "    if T == 0 :#T should not be 0 as we are calculating forward price, hence make T > 0\n",
    "        T = 0.00001\n",
    "    f0 = S * np.exp(r*T)\n",
    "    d1 = (log(f0/K)+(sigma**2/2)*T) / (sigma*sqrt(T))\n",
    "    d2 = d1 - sigma*sqrt(T)\n",
    "    return np.exp(-r*T) * (f0*norm.cdf(d1) - K*norm.cdf(d2))"
   ]
  },
  {
   "cell_type": "code",
   "execution_count": 25,
   "id": "17262c52",
   "metadata": {},
   "outputs": [],
   "source": [
    "def Black76VanillaPut(S, K, r, sigma, T):\n",
    "    if T == 0 :#T should not be 0 as we are calculating forward price, hence make T > 0\n",
    "        T = 0.00001\n",
    "    f0 = S * np.exp(r*T)\n",
    "    d1 = (log(f0/K)+(sigma**2/2)*T) / (sigma*sqrt(T))\n",
    "    d2 = d1 - sigma*sqrt(T)\n",
    "    return np.exp(-r*T) * (K*norm.cdf(-d2) - f0*norm.cdf(-d1))"
   ]
  },
  {
   "cell_type": "code",
   "execution_count": 26,
   "id": "7491f19c",
   "metadata": {},
   "outputs": [
    {
     "name": "stdout",
     "output_type": "stream",
     "text": [
      "Call price for Black76VanillaCall: 22.4528\n",
      "Put price for Black76VanillaPut: 21.9850\n"
     ]
    }
   ],
   "source": [
    "print('Call price for Black76VanillaCall: %.4f' % Black76VanillaCall(S, K, r, sigma, T))\n",
    "print('Put price for Black76VanillaPut: %.4f' % Black76VanillaPut(S, K, r, sigma, T))"
   ]
  },
  {
   "cell_type": "code",
   "execution_count": 27,
   "id": "72849afa",
   "metadata": {},
   "outputs": [],
   "source": [
    "#Black76 Digital Cash or Nothing Call/Put\n",
    "def Black76DigitalCashOrNothingCall(S, K, r, sigma, T):\n",
    "    if T == 0 :#T should not be 0 as we are calculating forward price, hence make T > 0\n",
    "        T = 0.00001\n",
    "    f0 = S * np.exp(r*T)\n",
    "    d1 = (log(f0/K)+(sigma**2/2)*T) / (sigma*sqrt(T))\n",
    "    d2 = d1 - sigma*sqrt(T)\n",
    "    return np.exp(-r*T) * norm.cdf(d2)"
   ]
  },
  {
   "cell_type": "code",
   "execution_count": 28,
   "id": "78e9dfc0",
   "metadata": {},
   "outputs": [],
   "source": [
    "def Black76DigitalCashOrNothingPut(S, K, r, sigma, T):\n",
    "    if T == 0 :#T should not be 0 as we are calculating forward price, hence make T > 0\n",
    "        T = 0.00001\n",
    "    f0 = S * np.exp(r*T)\n",
    "    d1 = (log(f0/K)+(sigma**2/2)*T) / (sigma*sqrt(T))\n",
    "    d2 = d1 - sigma*sqrt(T)\n",
    "    return np.exp(-r*T) * norm.cdf(-d2)"
   ]
  },
  {
   "cell_type": "code",
   "execution_count": 29,
   "id": "5d834e5d",
   "metadata": {},
   "outputs": [
    {
     "name": "stdout",
     "output_type": "stream",
     "text": [
      "Call price for Black76DigitalCashOrNothingCall: 0.3545\n",
      "Put price for Black76DigitalCashOrNothingPut: 0.5503\n"
     ]
    }
   ],
   "source": [
    "print('Call price for Black76DigitalCashOrNothingCall: %.4f' % Black76DigitalCashOrNothingCall(S, K, r, sigma, T))\n",
    "print('Put price for Black76DigitalCashOrNothingPut: %.4f' % Black76DigitalCashOrNothingPut(S, K, r, sigma, T))"
   ]
  },
  {
   "cell_type": "code",
   "execution_count": 30,
   "id": "7bfe41a7",
   "metadata": {},
   "outputs": [],
   "source": [
    "#Black76 Digital Asset or Nothing Call/Put\n",
    "def Black76DigitalAssetOrNothingCall(S, K, r, sigma, T): #BlackCall(F, K, sigma, T) #We use r here for forward price.\n",
    "    if T == 0 :#T should not be 0 as we are calculating forward price, hence make T > 0\n",
    "        T = 0.00001\n",
    "    f0 = S * np.exp(r*T)\n",
    "    d1 = (log(f0/K)+(sigma**2/2)*T) / (sigma*sqrt(T))\n",
    "    return np.exp(-r*T) * (f0*norm.cdf(d1))"
   ]
  },
  {
   "cell_type": "code",
   "execution_count": 31,
   "id": "7c4e6b05",
   "metadata": {},
   "outputs": [],
   "source": [
    "def Black76DigitalAssetOrNothingPut(S, K, r, sigma, T):\n",
    "    if T == 0 :#T should not be 0 as we are calculating forward price, hence make T > 0\n",
    "        T = 0.00001\n",
    "    f0 = S * np.exp(r*T)\n",
    "    d1 = (log(f0/K)+(sigma**2/2)*T) / (sigma*sqrt(T))\n",
    "    return np.exp(-r*T) * (f0*norm.cdf(-d1))"
   ]
  },
  {
   "cell_type": "code",
   "execution_count": 32,
   "id": "b3c2adf7",
   "metadata": {},
   "outputs": [
    {
     "name": "stdout",
     "output_type": "stream",
     "text": [
      "Call price for Black76DigitalAssetOrNothingCall: 61.4525\n",
      "Put price for Black76DigitalAssetOrNothingPut: 38.5475\n"
     ]
    }
   ],
   "source": [
    "print('Call price for Black76DigitalAssetOrNothingCall: %.4f' % Black76DigitalAssetOrNothingCall(S, K, r, sigma, T))\n",
    "print('Put price for Black76DigitalAssetOrNothingPut: %.4f' % Black76DigitalAssetOrNothingPut(S, K, r, sigma, T))"
   ]
  },
  {
   "cell_type": "code",
   "execution_count": 33,
   "id": "2723a140",
   "metadata": {},
   "outputs": [],
   "source": [
    "#input beta into params: \n",
    "beta = 0.4\n",
    "#Displaced Diffusion Vanilla Call/Put\n",
    "def DisplacedDiffusionVanillaCall(S, K, r, sigma, T, beta): #BlackCall(F, K, sigma, T) #We use r here for forward price. #beta 0 to 1\n",
    "    if T == 0 : #prevent divide by 0\n",
    "        T = 0.00001\n",
    "    f0 = S * np.exp(r*T) #S\n",
    "    if beta != 0: #add defensive check\n",
    "        f0 = f0/beta #add modification\n",
    "        sigma = sigma*beta #add modification\n",
    "        K = K + (((1-beta)/beta) * f0) #add modification\n",
    "    d1 = (log(f0/K)+(sigma**2/2)*T) / (sigma*sqrt(T))\n",
    "    d2 = d1 - sigma*sqrt(T)\n",
    "    return np.exp(-r*T) * (f0*norm.cdf(d1) - K*norm.cdf(d2))"
   ]
  },
  {
   "cell_type": "code",
   "execution_count": 34,
   "id": "eb9ec15b",
   "metadata": {},
   "outputs": [],
   "source": [
    "def DisplacedDiffusionVanillaPut(S, K, r, sigma, T, beta): \n",
    "    if T == 0 : #prevent divide by 0\n",
    "        T = 0.00001\n",
    "    f0 = S * np.exp(r*T)\n",
    "    if beta != 0: #defensive check\n",
    "        f0 = f0/beta #add modification\n",
    "        sigma = sigma*beta #add modification\n",
    "        K = K + (((1-beta)/beta) * f0) #add modification\n",
    "    d1 = (log(f0/K)+(sigma**2/2)*T) / (sigma*sqrt(T))\n",
    "    d2 = d1 - sigma*sqrt(T)\n",
    "    return np.exp(-r*T) * (K*norm.cdf(-d2) - f0*norm.cdf(-d1))"
   ]
  },
  {
   "cell_type": "code",
   "execution_count": 35,
   "id": "cc6652dd",
   "metadata": {},
   "outputs": [
    {
     "name": "stdout",
     "output_type": "stream",
     "text": [
      "Call price: 0.0529\n",
      "Put price: 224.5850\n"
     ]
    }
   ],
   "source": [
    "print('Call price: %.4f' % DisplacedDiffusionVanillaCall(S, K, r, sigma, T, beta))\n",
    "print('Put price: %.4f' % DisplacedDiffusionVanillaPut(S, K, r, sigma, T, beta))"
   ]
  },
  {
   "cell_type": "code",
   "execution_count": 36,
   "id": "a556218c",
   "metadata": {},
   "outputs": [],
   "source": [
    "#Displaced Diffusion Digital Cash or Nothing Call/Put\n",
    "def DisplacedDiffusionDigitalCashOrNothingCall(S, K, r, sigma, T, beta): #BlackCall(F, K, sigma, T) #We use r here for forward price. #beta 0 to 1\n",
    "    if T == 0 : #prevent divide by 0\n",
    "        T = 0.00001\n",
    "    f0 = S * np.exp(r*T)\n",
    "    if beta != 0: #add defensive check\n",
    "        f0 = f0/beta #add modification\n",
    "        sigma = sigma*beta #add modification\n",
    "        K = K + (((1-beta)/beta) * f0) #add modification\n",
    "    d1 = (log(f0/K)+(sigma**2/2)*T) / (sigma*sqrt(T))\n",
    "    d2 = d1 - sigma*sqrt(T)\n",
    "    return np.exp(-r*T) * norm.cdf(d2)"
   ]
  },
  {
   "cell_type": "code",
   "execution_count": 37,
   "id": "14eac2e5",
   "metadata": {},
   "outputs": [],
   "source": [
    "def DisplacedDiffusionDigitalCashOrNothingPut(S, K, r, sigma, T, beta): \n",
    "    if T == 0 : #prevent divide by 0\n",
    "        T = 0.00001\n",
    "    f0 = S * np.exp(r*T)\n",
    "    if beta != 0: #defensive check\n",
    "        f0 = f0/beta #add modification\n",
    "        sigma = sigma*beta #add modification\n",
    "        K = K + (((1-beta)/beta) * f0) #add modification\n",
    "    d1 = (log(f0/K)+(sigma**2/2)*T) / (sigma*sqrt(T))\n",
    "    d2 = d1 - sigma*sqrt(T)\n",
    "    return np.exp(-r*T) * norm.cdf(-d2)"
   ]
  },
  {
   "cell_type": "code",
   "execution_count": 38,
   "id": "45354f4c",
   "metadata": {},
   "outputs": [
    {
     "name": "stdout",
     "output_type": "stream",
     "text": [
      "Call price: 0.0015\n",
      "Put price: 0.9034\n"
     ]
    }
   ],
   "source": [
    "print('Call price: %.4f' % DisplacedDiffusionDigitalCashOrNothingCall(S, K, r, sigma, T, beta))\n",
    "print('Put price: %.4f' % DisplacedDiffusionDigitalCashOrNothingPut(S, K, r, sigma, T, beta))"
   ]
  },
  {
   "cell_type": "code",
   "execution_count": 39,
   "id": "caa0f8de",
   "metadata": {},
   "outputs": [],
   "source": [
    "#Displaced Diffusion Digital Asset or Nothing Call/Put\n",
    "def DisplacedDiffusionDigitalAssetOrNothingCall(S, K, r, sigma, T, beta): #BlackCall(F, K, sigma, T) #We use r here for forward price. #beta 0 to 1\n",
    "    if T == 0 : #prevent divide by 0\n",
    "        T = 0.00001\n",
    "    f0 = S * np.exp(r*T)\n",
    "    if beta != 0: #add defensive check\n",
    "        f0 = f0/beta #add modification\n",
    "        sigma = sigma*beta #add modification\n",
    "        K = K + (((1-beta)/beta) * f0) #add modification\n",
    "    d1 = (log(f0/K)+(sigma**2/2)*T) / (sigma*sqrt(T))\n",
    "    return np.exp(-r*T) * (f0*norm.cdf(d1))"
   ]
  },
  {
   "cell_type": "code",
   "execution_count": 40,
   "id": "09f22db7",
   "metadata": {},
   "outputs": [],
   "source": [
    "def DisplacedDiffusionDigitalAssetOrNothingPut(S, K, r, sigma, T, beta): \n",
    "    if T == 0 : #prevent divide by 0\n",
    "        T = 0.00001\n",
    "    f0 = S * np.exp(r*T)\n",
    "    if beta != 0: #defensive check\n",
    "        f0 = f0/beta #add modification\n",
    "        sigma = sigma*beta #add modification\n",
    "        K = K + (((1-beta)/beta) * f0) #add modification\n",
    "    d1 = (log(f0/K)+(sigma**2/2)*T) / (sigma*sqrt(T))\n",
    "    return np.exp(-r*T) * (f0*norm.cdf(-d1))"
   ]
  },
  {
   "cell_type": "code",
   "execution_count": 41,
   "id": "70aae46a",
   "metadata": {
    "scrolled": true
   },
   "outputs": [
    {
     "name": "stdout",
     "output_type": "stream",
     "text": [
      "Call price: 0.8182\n",
      "Put price: 249.1818\n"
     ]
    }
   ],
   "source": [
    "print('Call price: %.4f' % DisplacedDiffusionDigitalAssetOrNothingCall(S, K, r, sigma, T, beta))\n",
    "print('Put price: %.4f' % DisplacedDiffusionDigitalAssetOrNothingPut(S, K, r, sigma, T, beta))"
   ]
  }
 ],
 "metadata": {
  "kernelspec": {
   "display_name": "Python 3",
   "language": "python",
   "name": "python3"
  },
  "language_info": {
   "codemirror_mode": {
    "name": "ipython",
    "version": 3
   },
   "file_extension": ".py",
   "mimetype": "text/x-python",
   "name": "python",
   "nbconvert_exporter": "python",
   "pygments_lexer": "ipython3",
   "version": "3.7.4"
  }
 },
 "nbformat": 4,
 "nbformat_minor": 5
}
