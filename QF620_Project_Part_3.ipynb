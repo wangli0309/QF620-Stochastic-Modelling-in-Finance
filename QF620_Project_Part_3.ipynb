{
 "cells": [
  {
   "cell_type": "code",
   "execution_count": 1,
   "id": "264bd39b",
   "metadata": {},
   "outputs": [],
   "source": [
    "import pandas as pd\n",
    "import numpy as np\n",
    "\n",
    "import datetime as dt\n",
    "\n",
    "import matplotlib.pylab as plt\n",
    "\n",
    "from scipy import interpolate\n",
    "from scipy.stats import norm\n",
    "from scipy.optimize import brentq\n",
    "from scipy.integrate import quad"
   ]
  },
  {
   "cell_type": "code",
   "execution_count": 2,
   "id": "2e7c16f0",
   "metadata": {},
   "outputs": [],
   "source": [
    "# Discount Rate\n",
    "rate_df = pd.read_csv('zero_rates_20201201.csv')\n",
    "\n",
    "# SPX General Data\n",
    "SPX_df = pd.read_csv('SPX_options.csv')\n",
    "SPX_df['strike_price'] = SPX_df['strike_price']/1000\n",
    "SPX_df['mid_price'] = (SPX_df['best_bid'] + SPX_df['best_offer'])/2\n",
    "\n",
    "# SPX Maturity Data\n",
    "SPX = SPX_df[(SPX_df.exdate == 20210115)]\n",
    "\n",
    "# Time To Maturity\n",
    "today = dt.date(2020, 12, 1)\n",
    "exdate = dt.date(2021, 1, 15)\n",
    "T = (exdate-today).days/365.0\n",
    "\n",
    "# Discount Rate Interpolation\n",
    "x = rate_df['days']\n",
    "y = rate_df['rate']\n",
    "f = interpolate.interp1d(x,y)\n",
    "r = f(T*365)/100\n",
    "\n",
    "S = 3662.45\n",
    "K = 3660\n"
   ]
  },
  {
   "cell_type": "markdown",
   "id": "6a88b7e7",
   "metadata": {},
   "source": [
    "# Implied Volatility - SPX"
   ]
  },
  {
   "cell_type": "code",
   "execution_count": 3,
   "id": "8d234246",
   "metadata": {},
   "outputs": [],
   "source": [
    "# Black-Scholes Model\n",
    "def BlackScholesCall(S, K, r, Sigma, T):\n",
    "    d1 = (np.log(S/K)+(r+Sigma**2/2)*T) / (Sigma*np.sqrt(T))\n",
    "    d2 = d1 - Sigma*np.sqrt(T)\n",
    "    return S*norm.cdf(d1) - K*np.exp(-r*T)*norm.cdf(d2)\n",
    "\n",
    "def BlackScholesPut(S, K, r, Sigma, T):\n",
    "    return BlackScholesCall(S,K,r,Sigma,T)- S + K*np.exp(-r*T)"
   ]
  },
  {
   "cell_type": "code",
   "execution_count": 4,
   "id": "9dce300b",
   "metadata": {},
   "outputs": [],
   "source": [
    "# Implied European Options Volatility Model\n",
    "def impliedCallVolatility(S, K, r, price, T):\n",
    "    try:\n",
    "        impliedVol = brentq(lambda x: price -\n",
    "                        BlackScholesCall(S, K, r, x, T),\n",
    "                        1e-6, 1)\n",
    "    except Exception:\n",
    "        impliedVol = np.nan\n",
    " \n",
    "    return impliedVol\n",
    "\n",
    "def impliedPutVolatility(S, K, r, price, T):\n",
    "    try:\n",
    "        impliedVol = brentq(lambda x: price -\n",
    "                        BlackScholesPut(S, K, r, x, T),\n",
    "                        1e-6, 1)\n",
    "    except Exception:\n",
    "        impliedVol = np.nan\n",
    "\n",
    "    return impliedVol\n",
    "\n",
    "## At The Money Volatility (ExDate: 2021/1/15)\n",
    "ATM_call = SPX[(SPX.strike_price == K)]\n",
    "ATM_call = ATM_call[(ATM_call.cp_flag == \"C\")]\n",
    "ATM_put = SPX[(SPX.strike_price == K)]\n",
    "ATM_put = ATM_put[(ATM_put.cp_flag == \"P\")]\n",
    "Sigma_call = impliedCallVolatility(S, K, r , ATM_call.mid_price, T)\n",
    "Sigma_put = impliedPutVolatility(S, K, r, ATM_put.mid_price, T)\n",
    "Sigma = (Sigma_call + Sigma_put)/2"
   ]
  },
  {
   "cell_type": "code",
   "execution_count": 5,
   "id": "fef08bce",
   "metadata": {},
   "outputs": [
    {
     "data": {
      "text/plain": [
       "0.18537188428747395"
      ]
     },
     "execution_count": 5,
     "metadata": {},
     "output_type": "execute_result"
    }
   ],
   "source": [
    "Sigma"
   ]
  },
  {
   "cell_type": "markdown",
   "id": "885709e0",
   "metadata": {},
   "source": [
    "# Black Scholes"
   ]
  },
  {
   "cell_type": "code",
   "execution_count": 6,
   "id": "c79dde18",
   "metadata": {},
   "outputs": [],
   "source": [
    "# Black Scholes Model Integrated Variance Function\n",
    "def BSM_callintegrand(K, S, r, T, Sigma):\n",
    "    price = BlackScholesCall(S, K, r, Sigma, T) / K**2\n",
    "    return price\n",
    "\n",
    "def BSM_putintegrand(K, S, r, T, Sigma):\n",
    "    price = BlackScholesPut(S, K, r, Sigma, T) / K**2\n",
    "    return price\n",
    "\n"
   ]
  },
  {
   "cell_type": "code",
   "execution_count": 7,
   "id": "90a62165",
   "metadata": {
    "scrolled": true
   },
   "outputs": [
    {
     "name": "stdout",
     "output_type": "stream",
     "text": [
      "Black Scholes Model Integrated Variance: 0.004236501\n"
     ]
    }
   ],
   "source": [
    "F = S * np.exp(r*T)\n",
    "BSM_I_put = quad(lambda x: BSM_putintegrand(x, S, r, T, Sigma), 0.0, F)\n",
    "BSM_I_call = quad(lambda x: BSM_callintegrand(x, S, r, T, Sigma), F, 5000)\n",
    "BSM_Var = 2*np.exp(r*T)*(BSM_I_put[0] + BSM_I_call[0])\n",
    "\n",
    "print('Black Scholes Model Integrated Variance: %.9f' % BSM_Var)"
   ]
  },
  {
   "cell_type": "code",
   "execution_count": 8,
   "id": "f6247adb",
   "metadata": {},
   "outputs": [
    {
     "name": "stdout",
     "output_type": "stream",
     "text": [
      "Black-Scholes Model Derivating Pricing: 37.7144\n"
     ]
    }
   ],
   "source": [
    "# Black Scholes Model Derivative Pricing Model\n",
    "BSM_Sigma = np.sqrt(BSM_Var/T)\n",
    "\n",
    "def BSM_pricing(S,r,T,Sigma):\n",
    "    price = S ** (1/3) * np.exp((1/3) * r * T - (1/9) *Sigma ** 2 * T) + 1.5 * (np.log(S) + r * T - 0.5 * (Sigma ** 2) * T) + 10\n",
    "    return price\n",
    "\n",
    "BSM_price = BSM_pricing(S,r,T,BSM_Sigma)\n",
    "\n",
    "print('Black-Scholes Model Derivating Pricing: %.4f' % BSM_price)"
   ]
  },
  {
   "cell_type": "markdown",
   "id": "b1272a7b",
   "metadata": {},
   "source": [
    "# Bachelier Model"
   ]
  },
  {
   "cell_type": "code",
   "execution_count": 9,
   "id": "4c26bcd9",
   "metadata": {},
   "outputs": [],
   "source": [
    "# Bachelier Model\n",
    "def BachelierCall(S, K, r, Sigma, T):\n",
    "    d = (S-K) / (S*Sigma*np.sqrt(T))\n",
    "    disc = np.exp(-r*T)\n",
    "    return disc*((S-K)*norm.cdf(d)+S*Sigma*np.sqrt(T)*norm.pdf(d))\n",
    "\n",
    "def BachelierPut(S, K, r, Sigma, T):\n",
    "    d = (S-K) / (S*Sigma*np.sqrt(T))\n",
    "    disc = np.exp(-r*T)\n",
    "    return disc*((K-S)*norm.cdf(-d)+S*Sigma*np.sqrt(T)*norm.pdf(-d))\n",
    "\n",
    "# Bachelier Model Integrated Variance Function\n",
    "def BACHcallintegrand(K, S, r, T, Sigma):\n",
    "    price = BachelierCall(S, K, r, Sigma, T) / K**2\n",
    "    return price\n",
    "\n",
    "def BACHputintegrandb(K, S, r, T, Sigma):\n",
    "    price = BachelierPut(S, K, r, Sigma, T) / K**2\n",
    "    return price"
   ]
  },
  {
   "cell_type": "code",
   "execution_count": 10,
   "id": "61ca8191",
   "metadata": {},
   "outputs": [
    {
     "name": "stdout",
     "output_type": "stream",
     "text": [
      "Bachelier Model Integrated Variance: 0.004263876\n"
     ]
    }
   ],
   "source": [
    "F = S * np.exp(r*T)\n",
    "BACH_I_put = quad(lambda x: BACHputintegrandb(x, S, r, T, Sigma), 0.0, F)\n",
    "BACH_I_call = quad(lambda x: BACHcallintegrand(x, S, r, T, Sigma), F, 5000)\n",
    "BACH_Var = 2*np.exp(r*T)*(BACH_I_put[0] + BACH_I_call[0])\n",
    "\n",
    "print('Bachelier Model Integrated Variance: %.9f' % BACH_Var)"
   ]
  },
  {
   "cell_type": "code",
   "execution_count": 11,
   "id": "bb1e8a64",
   "metadata": {},
   "outputs": [
    {
     "name": "stdout",
     "output_type": "stream",
     "text": [
      "Bachelier Model Derivative Pricing: 37.7136\n"
     ]
    }
   ],
   "source": [
    "# Bachelier Model Derivative Pricing Model\n",
    "BACH_Sigma = np.sqrt(BACH_Var/T)\n",
    "\n",
    "BACH = lambda x: (((S + BACH_Sigma*np.sqrt(T)*x)**(1/3))+ (1.5* np.log(S + BACH_Sigma*np.sqrt(T)*x)) +10 )*np.exp(-(x**2/2))\n",
    "x_BACH,err = quad(BACH, -(np.inf), np.inf)\n",
    "\n",
    "BACH_Price = np.exp(-r*T)/np.sqrt(2*np.pi)*x_BACH\n",
    "\n",
    "print('Bachelier Model Derivative Pricing: %.4f' % BACH_Price)"
   ]
  },
  {
   "cell_type": "markdown",
   "id": "9634e082",
   "metadata": {},
   "source": [
    "# SABR Model"
   ]
  },
  {
   "cell_type": "code",
   "execution_count": 12,
   "id": "ac3c4402",
   "metadata": {},
   "outputs": [],
   "source": [
    "def SABR(F, K, T, alpha, beta, rho, nu):\n",
    "    X = K\n",
    "    # if K is at-the-money-forward\n",
    "    if abs(F - K) < 1e-12:\n",
    "        numer1 = (((1 - beta)**2)/24)*alpha*alpha/(F**(2 - 2*beta))\n",
    "        numer2 = 0.25*rho*beta*nu*alpha/(F**(1 - beta))\n",
    "        numer3 = ((2 - 3*rho*rho)/24)*nu*nu\n",
    "        VolAtm = alpha*(1 + (numer1 + numer2 + numer3)*T)/(F**(1-beta))\n",
    "        sabrSigma = VolAtm\n",
    "    else:\n",
    "        z = (nu/alpha)*((F*X)**(0.5*(1-beta)))*np.log(F/X)\n",
    "        zhi = np.log((((1 - 2*rho*z + z*z)**0.5) + z - rho)/(1 - rho))\n",
    "        numer1 = (((1 - beta)**2)/24)*((alpha*alpha)/((F*X)**(1 - beta)))\n",
    "        numer2 = 0.25*rho*beta*nu*alpha/((F*X)**((1 - beta)/2))\n",
    "        numer3 = ((2 - 3*rho*rho)/24)*nu*nu\n",
    "        numer = alpha*(1 + (numer1 + numer2 + numer3)*T)*z\n",
    "        denom1 = ((1 - beta)**2/24)*(np.log(F/X))**2\n",
    "        denom2 = (((1 - beta)**4)/1920)*((np.log(F/X))**4)\n",
    "        denom = ((F*X)**((1 - beta)/2))*(1 + denom1 + denom2)*zhi\n",
    "        sabrSigma = numer/denom\n",
    "\n",
    "    return sabrSigma\n",
    "\n",
    "def SABRCall(S, K, r, alpha, beta, rho, nu, T):\n",
    "    sabr_vol = SABR(S*np.exp(r*T), K, T, alpha, beta, rho, nu)\n",
    "    return BlackScholesCall(S, K, r, sabr_vol, T)\n",
    "\n",
    "\n",
    "def SABRPut(S, K, r, alpha, beta, rho, nu, T):\n",
    "    sabr_vol = SABR(S*np.exp(r*T), K, T, alpha, beta, rho, nu)\n",
    "    return BlackScholesPut(S, K, r, sabr_vol, T)\n",
    "\n",
    "\n",
    "def SABRcallintegrand(K, S, r, T, alpha, beta, rho, nu):\n",
    "    price = SABRCall(S, K, r, alpha, beta, rho, nu, T) / K**2\n",
    "    return price\n",
    "\n",
    "\n",
    "def SABRputintegrand(K, S, r, T, alpha, beta, rho, nu):\n",
    "    price = SABRPut(S, K, r, alpha, beta, rho, nu, T) / K**2\n",
    "    return price"
   ]
  },
  {
   "cell_type": "code",
   "execution_count": 13,
   "id": "7a31093d",
   "metadata": {},
   "outputs": [
    {
     "name": "stdout",
     "output_type": "stream",
     "text": [
      "SABR Model Integrated Variance: 0.006337325\n"
     ]
    }
   ],
   "source": [
    "alpha = 1.817\n",
    "beta = 0.7\n",
    "rho = -0.404\n",
    "nu = 2.790\n",
    "\n",
    "F = S * np.exp(r*T)\n",
    "SABR_I_put = quad(lambda x: SABRputintegrand(x, S, r, T, alpha, beta, rho, nu), 0, F)\n",
    "SABR_I_call = quad(lambda x: SABRcallintegrand(x, S, r, T, alpha, beta, rho, nu), F, 5000)\n",
    "SABR_Var = 2*np.exp(r*T)*(SABR_I_put[0] + SABR_I_call[0])\n",
    "\n",
    "print('SABR Model Integrated Variance: %.9f' % SABR_Var)"
   ]
  },
  {
   "cell_type": "code",
   "execution_count": 14,
   "id": "b34dabcb",
   "metadata": {},
   "outputs": [
    {
     "name": "stdout",
     "output_type": "stream",
     "text": [
      "Bachelier Model Derivative Pricing (SABR): 37.7136\n",
      "Black-Scholes Model Derivative Pricing (SABR): 37.7092\n"
     ]
    }
   ],
   "source": [
    "# SABR Model Derivative Pricing Model\n",
    "SABR_Sigma = np.sqrt(SABR_Var/T)\n",
    "\n",
    "x_BACH_SABR = lambda x: (((S + SABR_Sigma*np.sqrt(T)*x)**(1/3))+ (1.5* np.log(S + SABR_Sigma*np.sqrt(T)*x)) +10 )*np.exp(-(x**2/2))\n",
    "x_SABR,Error = quad(x_BACH_SABR, -(np.inf), np.inf)\n",
    "\n",
    "BACH_SABR_Price = np.exp(-r*T)/np.sqrt(2*np.pi)*x_SABR\n",
    "\n",
    "print('Bachelier Model Derivative Pricing (SABR): %.4f' % BACH_SABR_Price)\n",
    "\n",
    "BSM_SABR_Price = BSM_pricing(S,r,T,SABR_Sigma)\n",
    "\n",
    "print('Black-Scholes Model Derivative Pricing (SABR): %.4f' % BSM_SABR_Price)"
   ]
  }
 ],
 "metadata": {
  "kernelspec": {
   "display_name": "Python 3",
   "language": "python",
   "name": "python3"
  },
  "language_info": {
   "codemirror_mode": {
    "name": "ipython",
    "version": 3
   },
   "file_extension": ".py",
   "mimetype": "text/x-python",
   "name": "python",
   "nbconvert_exporter": "python",
   "pygments_lexer": "ipython3",
   "version": "3.7.4"
  }
 },
 "nbformat": 4,
 "nbformat_minor": 5
}
